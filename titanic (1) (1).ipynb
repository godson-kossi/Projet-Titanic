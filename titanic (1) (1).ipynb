{
 "cells": [
  {
   "cell_type": "code",
   "execution_count": null,
   "id": "0253bee0-db52-470e-9c2e-8282deeb205b",
   "metadata": {},
   "outputs": [],
   "source": [
    "# imports...\n",
    "from sklearn import datasets\n",
    "import pandas as pd\n",
    "from sklearn.model_selection import train_test_split\n",
    "from sklearn.preprocessing import OneHotEncoder\n",
    "from sklearn.ensemble import RandomForestClassifier\n",
    "from sklearn.metrics import accuracy_score, f1_score"
   ]
  },
  {
   "cell_type": "code",
   "execution_count": null,
   "id": "49f65b6c-6787-4e8c-a68a-08c0be995ddd",
   "metadata": {},
   "outputs": [],
   "source": [
    "# read csv file and split the data into X_train, X_test, y_train, y_test\n",
    "df = pd.read_csv('titanic.csv')"
   ]
  },
  {
   "cell_type": "markdown",
   "id": "e179b691-9937-4b20-9bcf-eac723a0848d",
   "metadata": {},
   "source": [
    "# Modeling 1: only 2 features"
   ]
  },
  {
   "cell_type": "code",
   "execution_count": null,
   "id": "61b92189-329e-4d3a-a25b-0a8fc43355df",
   "metadata": {},
   "outputs": [],
   "source": [
    "# dropping irrelevant columns and rows with null values\n",
    "df1 = df.copy()\n",
    "df1 = df1.drop(['PassengerId', 'Name', 'Ticket', 'Cabin', 'Embarked', 'Sex', 'SibSp', 'Parch', 'Fare'], axis=1)\n",
    "df1 = df1.dropna(axis=0, how='any', subset=['Age', 'Pclass'])\n",
    "df1.head()"
   ]
  },
  {
   "cell_type": "code",
   "execution_count": null,
   "id": "0cf0bf29-8539-4e11-999f-304d4e670b19",
   "metadata": {},
   "outputs": [],
   "source": [
    "X = df1.drop('Survived', axis=1)\n",
    "y = df1['Survived']\n",
    "X_train, X_test, y_train, y_test = train_test_split(X, y, test_size=0.25, random_state=42)\n",
    "X_train = X_train.reset_index().drop('index', axis=1) # resetting the index\n",
    "X_test = X_test.reset_index().drop('index', axis=1) # resetting the index\n",
    "print(X_train.shape, X_test.shape, y_train.shape, y_test.shape)"
   ]
  },
  {
   "cell_type": "code",
   "execution_count": null,
   "id": "0b151a15-b001-4f3f-a469-b0f4ba7a8ea8",
   "metadata": {},
   "outputs": [],
   "source": [
    "# Training of the Machine Learning model (Random Forest)\n",
    "clf = RandomForestClassifier(max_depth=2, random_state=0)\n",
    "clf.fit(X_train, y_train)\n",
    "\n",
    "# making prediction on the test set\n",
    "y_pred = clf.predict(X_test)"
   ]
  },
  {
   "cell_type": "code",
   "execution_count": null,
   "id": "c33e32a3-bb4d-4356-b1ee-3aa985c5dae9",
   "metadata": {},
   "outputs": [],
   "source": [
    "print(f\"Accuracy score: {100*f1_score(y_test, y_pred):.2f}%\")"
   ]
  },
  {
   "cell_type": "markdown",
   "id": "3188dd51-3f91-4db9-8937-f17ed2fd26d9",
   "metadata": {},
   "source": [
    "# Modeling 2: adding more features"
   ]
  },
  {
   "cell_type": "code",
   "execution_count": null,
   "id": "556e1fcb-a5cb-4425-a62c-d898cc4e8c77",
   "metadata": {},
   "outputs": [],
   "source": [
    "X = df.drop('Survived', axis=1)\n",
    "y = df['Survived']\n",
    "X_train, X_test, y_train, y_test = train_test_split(X, y, test_size=0.25, random_state=42)\n",
    "X_train = X_train.reset_index().drop('index', axis=1) # resetting the index\n",
    "X_test = X_test.reset_index().drop('index', axis=1) # resetting the index\n",
    "print(X_train.shape, X_test.shape, y_train.shape, y_test.shape)"
   ]
  },
  {
   "cell_type": "code",
   "execution_count": null,
   "id": "e39802b9-9447-49b0-a4f8-f653bada4e7d",
   "metadata": {},
   "outputs": [],
   "source": [
    "# Train data preparation\n",
    "\n",
    "# dropping irrelevant columns\n",
    "X_train =  X_train.drop(['PassengerId', 'Name', 'Ticket', 'Cabin'], axis=1)\n",
    "\n",
    "# replacing null values in Age and Embarked\n",
    "avg_age = X_train.Age.mean()\n",
    "X_train.Age =  X_train.Age.fillna(avg_age)\n",
    "X_train.Embarked = X_train.Embarked.fillna('unknown')\n",
    "\n",
    "# enconding categorical data using One Hot Encoding\n",
    "enc = OneHotEncoder(handle_unknown='ignore')\n",
    "enc.fit(X_train[['Sex', 'Embarked']])\n",
    "encoding = pd.DataFrame(enc.transform(X_train[['Sex', 'Embarked']]).toarray(), columns=enc.get_feature_names_out())\n",
    "X_train = X_train.join(encoding)\n",
    "X_train = X_train.drop(['Sex', 'Embarked'], axis=1)\n",
    "\n",
    "X_train.head()"
   ]
  },
  {
   "cell_type": "code",
   "execution_count": null,
   "id": "4a9ff3de-696f-466f-96d5-2520ee10587a",
   "metadata": {},
   "outputs": [],
   "source": [
    "# Test data preparation\n",
    "\n",
    "# drop irrelevant columns\n",
    "X_test = X_test.drop(['PassengerId', 'Name', 'Ticket', 'Cabin'], axis=1)\n",
    "\n",
    "# replacing null values in Age and Embarked\n",
    "X_test.Age =  X_test.Age.fillna(avg_age)\n",
    "X_test.Embarked = X_test.Embarked.fillna('unknown')\n",
    "\n",
    "# enconding categorical data using One Hot Encoding\n",
    "encoding = pd.DataFrame(enc.transform(X_test[['Sex', 'Embarked']]).toarray(), columns=enc.get_feature_names_out())\n",
    "X_test = X_test.join(encoding)\n",
    "X_test = X_test.drop(['Sex', 'Embarked'], axis=1)\n",
    "X_test.head()"
   ]
  },
  {
   "cell_type": "code",
   "execution_count": null,
   "id": "82342cbf-cbaf-4093-af17-101c8aed7314",
   "metadata": {},
   "outputs": [],
   "source": [
    "# Training of the Machine Learning model (Random Forest)\n",
    "clf = RandomForestClassifier(max_depth=2, random_state=0)\n",
    "clf.fit(X_train, y_train)\n",
    "\n",
    "# making prediction on the test set\n",
    "y_pred = clf.predict(X_test)"
   ]
  },
  {
   "cell_type": "code",
   "execution_count": null,
   "id": "595f5e3c-3e19-466c-8d50-02d5f361d209",
   "metadata": {},
   "outputs": [],
   "source": [
    "print(f\"Accuracy score: {100*f1_score(y_test, y_pred):.2f}%\")"
   ]
  },
  {
   "cell_type": "markdown",
   "id": "2a6370d8-04e0-44b7-9a36-782005698f6f",
   "metadata": {},
   "source": [
    "# Modeling 3 : Fine-tuning"
   ]
  },
  {
   "cell_type": "raw",
   "id": "bd1ff7b1-2369-4330-8d37-b4a88636b2ae",
   "metadata": {},
   "source": [
    "Exercice 1: paramètre n_estimators (correspond au nombre d'arbre dans le random forest)\n",
    "Objectif: tester différentes valeurs et voir comment ça impacte la précision du modèle\n",
    "\n",
    "- Entraine 7 modèles de RandomForest, avec n_estimators = 1, 10, 50, 100, 150, 200, 300\n",
    "- Pour chaque modèle, calcule la précision du modèle en utilisant la fonction f1_score()\n",
    "\n",
    "Question: quelle est la valeur de n_estimators donnant la plus haute précision?"
   ]
  },
  {
   "cell_type": "code",
   "execution_count": null,
   "id": "926c8643-aa85-4ea5-a72a-d2adc7a22e11",
   "metadata": {},
   "outputs": [],
   "source": [
    "## n_estimators\n",
    "for est in [1, 10, 50, 100, 150, 200, 300]:\n",
    "    clf = RandomForestClassifier(n_estimators=est, random_state=0)\n",
    "    clf.fit(X_train, y_train)\n",
    "\n",
    "    y_pred = clf.predict(X_test)\n",
    "\n",
    "    print(f\"Accuracy (n_estimators={est}): {100*f1_score(y_test, y_pred):.2f}%\")"
   ]
  },
  {
   "cell_type": "raw",
   "id": "8ac9b951-db28-4c11-b197-b60cc36faf25",
   "metadata": {},
   "source": [
    "Exercice 2: paramètre max_depth (correspond à la profondeur maximum des arbres dans le random forest)\n",
    "Objectif: tester différentes valeurs et voir comment ça impacte la précision du modèle\n",
    "\n",
    "- Entraine 5 modèles de RandomForest, avec max_depth = 1, 2, 10, 15, 20\n",
    "- Pour chaque modèle, calcule la précision du modèle en utilisant la fonction f1_score()\n",
    "\n",
    "Question: quelle est la valeur de max_depth donnant la plus haute précision?"
   ]
  },
  {
   "cell_type": "code",
   "execution_count": null,
   "id": "579343d5-1839-4d8c-8c15-6d092c084f2d",
   "metadata": {},
   "outputs": [],
   "source": [
    "## max_depth\n",
    "for md in [1, 2, 10, 15, 20]:\n",
    "    clf = RandomForestClassifier(n_estimators=100, max_depth=md, random_state=0)\n",
    "    clf.fit(X_train, y_train)\n",
    "\n",
    "    y_pred = clf.predict(X_test)\n",
    "\n",
    "    print(f\"Accuracy (n_estimators={est}): {100*f1_score(y_test, y_pred):.2f}%\")"
   ]
  },
  {
   "cell_type": "raw",
   "id": "fee6a006-dd61-4a99-89d6-5297d0c06075",
   "metadata": {},
   "source": [
    "Exercice 3: il existe des méthodes permettant de tester de manière plus efficace plusieurs valeurs de paramètres. L'une d'entre elle s'appelle le Grid Search.\n",
    "\n",
    "Pour en savoir plus sur le Grid search, voir ce lien -> https://www.analyticsvidhya.com/blog/2021/06/tune-hyperparameters-with-gridsearchcv/\n",
    "\n",
    "Objectif: tester différentes valeurs de paramètres et trouver la combinaison la plus optimale"
   ]
  },
  {
   "cell_type": "code",
   "execution_count": null,
   "id": "03aa50e1-3adb-4914-b1e2-629556f16df6",
   "metadata": {},
   "outputs": [],
   "source": [
    "# import GridSearchCV library\n",
    "from sklearn.model_selection import GridSearchCV"
   ]
  },
  {
   "cell_type": "code",
   "execution_count": null,
   "id": "64ba1c0d-3b35-4655-83a7-72e668ba2da6",
   "metadata": {},
   "outputs": [],
   "source": [
    "# first we need to define the list of parameters and list of values we want to test\n",
    "# For each parameters, give a list of all values you want to test (same list used in previous exercise)\n",
    "parameters = {\n",
    "    'n_estimators':[...],\n",
    "    'max_depth':[...]\n",
    "}\n",
    "\n",
    "# init random forest object\n",
    "rf = RandomForestClassifier(random_state=0)\n",
    "# init grid search object\n",
    "gs = GridSearchCV([...])\n",
    "# fit grid search object using train data\n",
    "gs.fit([...])"
   ]
  },
  {
   "cell_type": "code",
   "execution_count": null,
   "id": "60c7a809-7716-4b74-a4fa-7c28a0c0276a",
   "metadata": {},
   "outputs": [],
   "source": [
    "# printing the best set of parameters found by grid search\n",
    "print(f\"Best parameters: {gs.best_params_}\")\n",
    "\n",
    "# getting the trained model with best performance\n",
    "final_model = gs.best_estimator_"
   ]
  },
  {
   "cell_type": "code",
   "execution_count": null,
   "id": "0b076542-8e5b-4782-a544-6275532a6993",
   "metadata": {},
   "outputs": [],
   "source": [
    "# making prediction on test set using best model\n",
    "y_pred = final_model.predict([...])"
   ]
  },
  {
   "cell_type": "code",
   "execution_count": null,
   "id": "94b1f3a7-e5ed-4a97-b516-65d5bd041ab5",
   "metadata": {},
   "outputs": [],
   "source": [
    "# calculating the accuracy of the model on test data\n",
    "print(f\"Accuracy (n_estimators={est}): {100*f1_score([...]):.2f}%\")"
   ]
  }
 ],
 "metadata": {
  "kernelspec": {
   "display_name": "Python 3 (ipykernel)",
   "language": "python",
   "name": "python3"
  },
  "language_info": {
   "codemirror_mode": {
    "name": "ipython",
    "version": 3
   },
   "file_extension": ".py",
   "mimetype": "text/x-python",
   "name": "python",
   "nbconvert_exporter": "python",
   "pygments_lexer": "ipython3",
   "version": "3.11.7"
  }
 },
 "nbformat": 4,
 "nbformat_minor": 5
}
