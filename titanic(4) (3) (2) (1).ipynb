{
 "cells": [
  {
   "cell_type": "code",
   "execution_count": 1,
   "id": "0253bee0-db52-470e-9c2e-8282deeb205b",
   "metadata": {},
   "outputs": [],
   "source": [
    "# imports...\n",
    "from sklearn import datasets\n",
    "import pandas as pd\n",
    "from sklearn.model_selection import train_test_split\n",
    "from sklearn.preprocessing import OneHotEncoder\n",
    "from sklearn.ensemble import RandomForestClassifier\n",
    "from sklearn.metrics import accuracy_score, f1_score"
   ]
  },
  {
   "cell_type": "code",
   "execution_count": 2,
   "id": "49f65b6c-6787-4e8c-a68a-08c0be995ddd",
   "metadata": {},
   "outputs": [],
   "source": [
    "# read csv file and split the data into X_train, X_test, y_train, y_test\n",
    "df = pd.read_csv('titanic(2).csv')"
   ]
  },
  {
   "cell_type": "markdown",
   "id": "e179b691-9937-4b20-9bcf-eac723a0848d",
   "metadata": {},
   "source": [
    "# Modeling 1: only 2 features"
   ]
  },
  {
   "cell_type": "code",
   "execution_count": 3,
   "id": "61b92189-329e-4d3a-a25b-0a8fc43355df",
   "metadata": {},
   "outputs": [
    {
     "data": {
      "text/html": [
       "<div>\n",
       "<style scoped>\n",
       "    .dataframe tbody tr th:only-of-type {\n",
       "        vertical-align: middle;\n",
       "    }\n",
       "\n",
       "    .dataframe tbody tr th {\n",
       "        vertical-align: top;\n",
       "    }\n",
       "\n",
       "    .dataframe thead th {\n",
       "        text-align: right;\n",
       "    }\n",
       "</style>\n",
       "<table border=\"1\" class=\"dataframe\">\n",
       "  <thead>\n",
       "    <tr style=\"text-align: right;\">\n",
       "      <th></th>\n",
       "      <th>Survived</th>\n",
       "      <th>Pclass</th>\n",
       "      <th>Age</th>\n",
       "    </tr>\n",
       "  </thead>\n",
       "  <tbody>\n",
       "    <tr>\n",
       "      <th>0</th>\n",
       "      <td>0</td>\n",
       "      <td>3</td>\n",
       "      <td>22.0</td>\n",
       "    </tr>\n",
       "    <tr>\n",
       "      <th>1</th>\n",
       "      <td>1</td>\n",
       "      <td>1</td>\n",
       "      <td>38.0</td>\n",
       "    </tr>\n",
       "    <tr>\n",
       "      <th>2</th>\n",
       "      <td>1</td>\n",
       "      <td>3</td>\n",
       "      <td>26.0</td>\n",
       "    </tr>\n",
       "    <tr>\n",
       "      <th>3</th>\n",
       "      <td>1</td>\n",
       "      <td>1</td>\n",
       "      <td>35.0</td>\n",
       "    </tr>\n",
       "    <tr>\n",
       "      <th>4</th>\n",
       "      <td>0</td>\n",
       "      <td>3</td>\n",
       "      <td>35.0</td>\n",
       "    </tr>\n",
       "  </tbody>\n",
       "</table>\n",
       "</div>"
      ],
      "text/plain": [
       "   Survived  Pclass   Age\n",
       "0         0       3  22.0\n",
       "1         1       1  38.0\n",
       "2         1       3  26.0\n",
       "3         1       1  35.0\n",
       "4         0       3  35.0"
      ]
     },
     "execution_count": 3,
     "metadata": {},
     "output_type": "execute_result"
    }
   ],
   "source": [
    "# dropping irrelevant columns and rows with null values\n",
    "df1 = df.copy()\n",
    "df1 = df1.drop(['PassengerId', 'Name', 'Ticket', 'Cabin', 'Embarked', 'Sex', 'SibSp', 'Parch', 'Fare'], axis=1)\n",
    "df1 = df1.dropna(axis=0, how='any', subset=['Age', 'Pclass'])\n",
    "df1.head()"
   ]
  },
  {
   "cell_type": "code",
   "execution_count": 4,
   "id": "0cf0bf29-8539-4e11-999f-304d4e670b19",
   "metadata": {},
   "outputs": [
    {
     "name": "stdout",
     "output_type": "stream",
     "text": [
      "(535, 2) (179, 2) (535,) (179,)\n"
     ]
    }
   ],
   "source": [
    "X = df1.drop('Survived', axis=1)\n",
    "y = df1['Survived']\n",
    "X_train, X_test, y_train, y_test = train_test_split(X, y, test_size=0.25, random_state=42)\n",
    "X_train = X_train.reset_index().drop('index', axis=1) # resetting the index\n",
    "X_test = X_test.reset_index().drop('index', axis=1) # resetting the index\n",
    "print(X_train.shape, X_test.shape, y_train.shape, y_test.shape)"
   ]
  },
  {
   "cell_type": "code",
   "execution_count": 5,
   "id": "0b151a15-b001-4f3f-a469-b0f4ba7a8ea8",
   "metadata": {},
   "outputs": [],
   "source": [
    "# Training of the Machine Learning model (Random Forest)\n",
    "clf = RandomForestClassifier(max_depth=2, random_state=0)\n",
    "clf.fit(X_train, y_train)\n",
    "\n",
    "# making prediction on the test set\n",
    "y_pred = clf.predict(X_test)"
   ]
  },
  {
   "cell_type": "code",
   "execution_count": 6,
   "id": "c33e32a3-bb4d-4356-b1ee-3aa985c5dae9",
   "metadata": {},
   "outputs": [
    {
     "name": "stdout",
     "output_type": "stream",
     "text": [
      "Accuracy score: 48.70%\n"
     ]
    }
   ],
   "source": [
    "print(f\"Accuracy score: {100*f1_score(y_test, y_pred):.2f}%\")"
   ]
  },
  {
   "cell_type": "markdown",
   "id": "3188dd51-3f91-4db9-8937-f17ed2fd26d9",
   "metadata": {},
   "source": [
    "# Modeling 2: adding more features"
   ]
  },
  {
   "cell_type": "code",
   "execution_count": 7,
   "id": "556e1fcb-a5cb-4425-a62c-d898cc4e8c77",
   "metadata": {},
   "outputs": [
    {
     "name": "stdout",
     "output_type": "stream",
     "text": [
      "(668, 11) (223, 11) (668,) (223,)\n"
     ]
    }
   ],
   "source": [
    "X = df.drop('Survived', axis=1)\n",
    "y = df['Survived']\n",
    "X_train, X_test, y_train, y_test = train_test_split(X, y, test_size=0.25, random_state=42)\n",
    "X_train = X_train.reset_index().drop('index', axis=1) # resetting the index\n",
    "X_test = X_test.reset_index().drop('index', axis=1) # resetting the index\n",
    "print(X_train.shape, X_test.shape, y_train.shape, y_test.shape)"
   ]
  },
  {
   "cell_type": "code",
   "execution_count": 8,
   "id": "e39802b9-9447-49b0-a4f8-f653bada4e7d",
   "metadata": {},
   "outputs": [
    {
     "data": {
      "text/html": [
       "<div>\n",
       "<style scoped>\n",
       "    .dataframe tbody tr th:only-of-type {\n",
       "        vertical-align: middle;\n",
       "    }\n",
       "\n",
       "    .dataframe tbody tr th {\n",
       "        vertical-align: top;\n",
       "    }\n",
       "\n",
       "    .dataframe thead th {\n",
       "        text-align: right;\n",
       "    }\n",
       "</style>\n",
       "<table border=\"1\" class=\"dataframe\">\n",
       "  <thead>\n",
       "    <tr style=\"text-align: right;\">\n",
       "      <th></th>\n",
       "      <th>Pclass</th>\n",
       "      <th>Age</th>\n",
       "      <th>SibSp</th>\n",
       "      <th>Parch</th>\n",
       "      <th>Fare</th>\n",
       "      <th>Sex_female</th>\n",
       "      <th>Sex_male</th>\n",
       "      <th>Embarked_C</th>\n",
       "      <th>Embarked_Q</th>\n",
       "      <th>Embarked_S</th>\n",
       "      <th>Embarked_unknown</th>\n",
       "    </tr>\n",
       "  </thead>\n",
       "  <tbody>\n",
       "    <tr>\n",
       "      <th>0</th>\n",
       "      <td>1</td>\n",
       "      <td>29.421343</td>\n",
       "      <td>0</td>\n",
       "      <td>0</td>\n",
       "      <td>30.5000</td>\n",
       "      <td>0.0</td>\n",
       "      <td>1.0</td>\n",
       "      <td>0.0</td>\n",
       "      <td>0.0</td>\n",
       "      <td>1.0</td>\n",
       "      <td>0.0</td>\n",
       "    </tr>\n",
       "    <tr>\n",
       "      <th>1</th>\n",
       "      <td>3</td>\n",
       "      <td>25.000000</td>\n",
       "      <td>0</td>\n",
       "      <td>0</td>\n",
       "      <td>7.0500</td>\n",
       "      <td>0.0</td>\n",
       "      <td>1.0</td>\n",
       "      <td>0.0</td>\n",
       "      <td>0.0</td>\n",
       "      <td>1.0</td>\n",
       "      <td>0.0</td>\n",
       "    </tr>\n",
       "    <tr>\n",
       "      <th>2</th>\n",
       "      <td>2</td>\n",
       "      <td>24.000000</td>\n",
       "      <td>0</td>\n",
       "      <td>2</td>\n",
       "      <td>14.5000</td>\n",
       "      <td>1.0</td>\n",
       "      <td>0.0</td>\n",
       "      <td>0.0</td>\n",
       "      <td>0.0</td>\n",
       "      <td>1.0</td>\n",
       "      <td>0.0</td>\n",
       "    </tr>\n",
       "    <tr>\n",
       "      <th>3</th>\n",
       "      <td>3</td>\n",
       "      <td>22.000000</td>\n",
       "      <td>0</td>\n",
       "      <td>0</td>\n",
       "      <td>7.5208</td>\n",
       "      <td>0.0</td>\n",
       "      <td>1.0</td>\n",
       "      <td>0.0</td>\n",
       "      <td>0.0</td>\n",
       "      <td>1.0</td>\n",
       "      <td>0.0</td>\n",
       "    </tr>\n",
       "    <tr>\n",
       "      <th>4</th>\n",
       "      <td>1</td>\n",
       "      <td>0.920000</td>\n",
       "      <td>1</td>\n",
       "      <td>2</td>\n",
       "      <td>151.5500</td>\n",
       "      <td>0.0</td>\n",
       "      <td>1.0</td>\n",
       "      <td>0.0</td>\n",
       "      <td>0.0</td>\n",
       "      <td>1.0</td>\n",
       "      <td>0.0</td>\n",
       "    </tr>\n",
       "  </tbody>\n",
       "</table>\n",
       "</div>"
      ],
      "text/plain": [
       "   Pclass        Age  SibSp  Parch      Fare  Sex_female  Sex_male  \\\n",
       "0       1  29.421343      0      0   30.5000         0.0       1.0   \n",
       "1       3  25.000000      0      0    7.0500         0.0       1.0   \n",
       "2       2  24.000000      0      2   14.5000         1.0       0.0   \n",
       "3       3  22.000000      0      0    7.5208         0.0       1.0   \n",
       "4       1   0.920000      1      2  151.5500         0.0       1.0   \n",
       "\n",
       "   Embarked_C  Embarked_Q  Embarked_S  Embarked_unknown  \n",
       "0         0.0         0.0         1.0               0.0  \n",
       "1         0.0         0.0         1.0               0.0  \n",
       "2         0.0         0.0         1.0               0.0  \n",
       "3         0.0         0.0         1.0               0.0  \n",
       "4         0.0         0.0         1.0               0.0  "
      ]
     },
     "execution_count": 8,
     "metadata": {},
     "output_type": "execute_result"
    }
   ],
   "source": [
    "# Train data preparation\n",
    "\n",
    "# dropping irrelevant columns\n",
    "X_train =  X_train.drop(['PassengerId', 'Name', 'Ticket', 'Cabin'], axis=1)\n",
    "\n",
    "# replacing null values in Age and Embarked\n",
    "avg_age = X_train.Age.mean()\n",
    "X_train.Age =  X_train.Age.fillna(avg_age)\n",
    "X_train.Embarked = X_train.Embarked.fillna('unknown')\n",
    "\n",
    "# enconding categorical data using One Hot Encoding\n",
    "enc = OneHotEncoder(handle_unknown='ignore')\n",
    "enc.fit(X_train[['Sex', 'Embarked']])\n",
    "encoding = pd.DataFrame(enc.transform(X_train[['Sex', 'Embarked']]).toarray(), columns=enc.get_feature_names_out())\n",
    "X_train = X_train.join(encoding)\n",
    "X_train = X_train.drop(['Sex', 'Embarked'], axis=1)\n",
    "\n",
    "X_train.head()"
   ]
  },
  {
   "cell_type": "code",
   "execution_count": 9,
   "id": "4a9ff3de-696f-466f-96d5-2520ee10587a",
   "metadata": {},
   "outputs": [
    {
     "data": {
      "text/html": [
       "<div>\n",
       "<style scoped>\n",
       "    .dataframe tbody tr th:only-of-type {\n",
       "        vertical-align: middle;\n",
       "    }\n",
       "\n",
       "    .dataframe tbody tr th {\n",
       "        vertical-align: top;\n",
       "    }\n",
       "\n",
       "    .dataframe thead th {\n",
       "        text-align: right;\n",
       "    }\n",
       "</style>\n",
       "<table border=\"1\" class=\"dataframe\">\n",
       "  <thead>\n",
       "    <tr style=\"text-align: right;\">\n",
       "      <th></th>\n",
       "      <th>Pclass</th>\n",
       "      <th>Age</th>\n",
       "      <th>SibSp</th>\n",
       "      <th>Parch</th>\n",
       "      <th>Fare</th>\n",
       "      <th>Sex_female</th>\n",
       "      <th>Sex_male</th>\n",
       "      <th>Embarked_C</th>\n",
       "      <th>Embarked_Q</th>\n",
       "      <th>Embarked_S</th>\n",
       "      <th>Embarked_unknown</th>\n",
       "    </tr>\n",
       "  </thead>\n",
       "  <tbody>\n",
       "    <tr>\n",
       "      <th>0</th>\n",
       "      <td>3</td>\n",
       "      <td>29.421343</td>\n",
       "      <td>1</td>\n",
       "      <td>1</td>\n",
       "      <td>15.2458</td>\n",
       "      <td>0.0</td>\n",
       "      <td>1.0</td>\n",
       "      <td>1.0</td>\n",
       "      <td>0.0</td>\n",
       "      <td>0.0</td>\n",
       "      <td>0.0</td>\n",
       "    </tr>\n",
       "    <tr>\n",
       "      <th>1</th>\n",
       "      <td>2</td>\n",
       "      <td>31.000000</td>\n",
       "      <td>0</td>\n",
       "      <td>0</td>\n",
       "      <td>10.5000</td>\n",
       "      <td>0.0</td>\n",
       "      <td>1.0</td>\n",
       "      <td>0.0</td>\n",
       "      <td>0.0</td>\n",
       "      <td>1.0</td>\n",
       "      <td>0.0</td>\n",
       "    </tr>\n",
       "    <tr>\n",
       "      <th>2</th>\n",
       "      <td>3</td>\n",
       "      <td>20.000000</td>\n",
       "      <td>0</td>\n",
       "      <td>0</td>\n",
       "      <td>7.9250</td>\n",
       "      <td>0.0</td>\n",
       "      <td>1.0</td>\n",
       "      <td>0.0</td>\n",
       "      <td>0.0</td>\n",
       "      <td>1.0</td>\n",
       "      <td>0.0</td>\n",
       "    </tr>\n",
       "    <tr>\n",
       "      <th>3</th>\n",
       "      <td>2</td>\n",
       "      <td>6.000000</td>\n",
       "      <td>0</td>\n",
       "      <td>1</td>\n",
       "      <td>33.0000</td>\n",
       "      <td>1.0</td>\n",
       "      <td>0.0</td>\n",
       "      <td>0.0</td>\n",
       "      <td>0.0</td>\n",
       "      <td>1.0</td>\n",
       "      <td>0.0</td>\n",
       "    </tr>\n",
       "    <tr>\n",
       "      <th>4</th>\n",
       "      <td>3</td>\n",
       "      <td>14.000000</td>\n",
       "      <td>1</td>\n",
       "      <td>0</td>\n",
       "      <td>11.2417</td>\n",
       "      <td>1.0</td>\n",
       "      <td>0.0</td>\n",
       "      <td>1.0</td>\n",
       "      <td>0.0</td>\n",
       "      <td>0.0</td>\n",
       "      <td>0.0</td>\n",
       "    </tr>\n",
       "  </tbody>\n",
       "</table>\n",
       "</div>"
      ],
      "text/plain": [
       "   Pclass        Age  SibSp  Parch     Fare  Sex_female  Sex_male  Embarked_C  \\\n",
       "0       3  29.421343      1      1  15.2458         0.0       1.0         1.0   \n",
       "1       2  31.000000      0      0  10.5000         0.0       1.0         0.0   \n",
       "2       3  20.000000      0      0   7.9250         0.0       1.0         0.0   \n",
       "3       2   6.000000      0      1  33.0000         1.0       0.0         0.0   \n",
       "4       3  14.000000      1      0  11.2417         1.0       0.0         1.0   \n",
       "\n",
       "   Embarked_Q  Embarked_S  Embarked_unknown  \n",
       "0         0.0         0.0               0.0  \n",
       "1         0.0         1.0               0.0  \n",
       "2         0.0         1.0               0.0  \n",
       "3         0.0         1.0               0.0  \n",
       "4         0.0         0.0               0.0  "
      ]
     },
     "execution_count": 9,
     "metadata": {},
     "output_type": "execute_result"
    }
   ],
   "source": [
    "# Test data preparation\n",
    "\n",
    "# drop irrelevant columns\n",
    "X_test = X_test.drop(['PassengerId', 'Name', 'Ticket', 'Cabin'], axis=1)\n",
    "\n",
    "# replacing null values in Age and Embarked\n",
    "X_test.Age =  X_test.Age.fillna(avg_age)\n",
    "X_test.Embarked = X_test.Embarked.fillna('unknown')\n",
    "\n",
    "# enconding categorical data using One Hot Encoding\n",
    "encoding = pd.DataFrame(enc.transform(X_test[['Sex', 'Embarked']]).toarray(), columns=enc.get_feature_names_out())\n",
    "X_test = X_test.join(encoding)\n",
    "X_test = X_test.drop(['Sex', 'Embarked'], axis=1)\n",
    "X_test.head()"
   ]
  },
  {
   "cell_type": "code",
   "execution_count": 10,
   "id": "82342cbf-cbaf-4093-af17-101c8aed7314",
   "metadata": {},
   "outputs": [],
   "source": [
    "# Training of the Machine Learning model (Random Forest)\n",
    "clf = RandomForestClassifier(max_depth=2, random_state=0)\n",
    "clf.fit(X_train, y_train)\n",
    "\n",
    "# making prediction on the test set\n",
    "y_pred = clf.predict(X_test)"
   ]
  },
  {
   "cell_type": "code",
   "execution_count": 11,
   "id": "595f5e3c-3e19-466c-8d50-02d5f361d209",
   "metadata": {},
   "outputs": [
    {
     "name": "stdout",
     "output_type": "stream",
     "text": [
      "Accuracy score: 72.41%\n"
     ]
    }
   ],
   "source": [
    "print(f\"Accuracy score: {100*f1_score(y_test, y_pred):.2f}%\")"
   ]
  },
  {
   "cell_type": "markdown",
   "id": "2a6370d8-04e0-44b7-9a36-782005698f6f",
   "metadata": {},
   "source": [
    "# Modeling 3 : Fine-tuning"
   ]
  },
  {
   "cell_type": "raw",
   "id": "bd1ff7b1-2369-4330-8d37-b4a88636b2ae",
   "metadata": {},
   "source": [
    "Exercice 1: paramètre n_estimators (correspond au nombre d'arbre dans le random forest)\n",
    "Objectif: tester différentes valeurs et voir comment ça impacte la précision du modèle\n",
    "\n",
    "- Entraine 7 modèles de RandomForest, avec n_estimators = 1, 10, 50, 100, 150, 200, 300\n",
    "- Pour chaque modèle, calcule la précision du modèle en utilisant la fonction f1_score()\n",
    "\n",
    "Question: quelle est la valeur de n_estimators donnant la plus haute précision?"
   ]
  },
  {
   "cell_type": "code",
   "execution_count": 12,
   "id": "926c8643-aa85-4ea5-a72a-d2adc7a22e11",
   "metadata": {},
   "outputs": [
    {
     "name": "stdout",
     "output_type": "stream",
     "text": [
      "Accuracy (n_estimators=1): 70.45%\n",
      "Accuracy (n_estimators=10): 72.51%\n",
      "Accuracy (n_estimators=50): 75.00%\n",
      "Accuracy (n_estimators=100): 75.00%\n",
      "Accuracy (n_estimators=150): 74.16%\n",
      "Accuracy (n_estimators=200): 75.00%\n",
      "Accuracy (n_estimators=300): 74.29%\n"
     ]
    }
   ],
   "source": [
    "## n_estimators\n",
    "for est in [1, 10, 50, 100, 150, 200, 300]:\n",
    "    clf = RandomForestClassifier(n_estimators=est, random_state=0)\n",
    "    clf.fit(X_train, y_train)\n",
    "\n",
    "    y_pred = clf.predict(X_test)\n",
    "\n",
    "    print(f\"Accuracy (n_estimators={est}): {100*f1_score(y_test, y_pred):.2f}%\")"
   ]
  },
  {
   "cell_type": "raw",
   "id": "8ac9b951-db28-4c11-b197-b60cc36faf25",
   "metadata": {},
   "source": [
    "Exercice 2: paramètre max_depth (correspond à la profondeur maximum des arbres dans le random forest)\n",
    "Objectif: tester différentes valeurs et voir comment ça impacte la précision du modèle\n",
    "\n",
    "- Entraine 5 modèles de RandomForest, avec max_depth = 1, 2, 10, 15, 20\n",
    "- Pour chaque modèle, calcule la précision du modèle en utilisant la fonction f1_score()\n",
    "\n",
    "Question: quelle est la valeur de max_depth donnant la plus haute précision?"
   ]
  },
  {
   "cell_type": "code",
   "execution_count": 13,
   "id": "579343d5-1839-4d8c-8c15-6d092c084f2d",
   "metadata": {},
   "outputs": [
    {
     "name": "stdout",
     "output_type": "stream",
     "text": [
      "Accuracy (n_estimators=300): 71.43%\n",
      "Accuracy (n_estimators=300): 72.41%\n",
      "Accuracy (n_estimators=300): 76.30%\n",
      "Accuracy (n_estimators=300): 75.43%\n",
      "Accuracy (n_estimators=300): 75.00%\n"
     ]
    }
   ],
   "source": [
    "## max_depth\n",
    "for md in [1, 2, 10, 15, 20]:\n",
    "    clf = RandomForestClassifier(n_estimators=100, max_depth=md, random_state=0)\n",
    "    clf.fit(X_train, y_train)\n",
    "\n",
    "    y_pred = clf.predict(X_test)\n",
    "\n",
    "    print(f\"Accuracy (n_estimators={est}): {100*f1_score(y_test, y_pred):.2f}%\")"
   ]
  },
  {
   "cell_type": "raw",
   "id": "fee6a006-dd61-4a99-89d6-5297d0c06075",
   "metadata": {},
   "source": [
    "Exercice 3: il existe des méthodes permettant de tester de manière plus efficace plusieurs valeurs de paramètres. L'une d'entre elle s'appelle le Grid Search.\n",
    "\n",
    "Pour en savoir plus sur le Grid search, voir ce lien -> https://www.analyticsvidhya.com/blog/2021/06/tune-hyperparameters-with-gridsearchcv/\n",
    "\n",
    "Objectif: tester différentes valeurs de paramètres et trouver la combinaison la plus optimale"
   ]
  },
  {
   "cell_type": "code",
   "execution_count": 14,
   "id": "03aa50e1-3adb-4914-b1e2-629556f16df6",
   "metadata": {},
   "outputs": [],
   "source": [
    "# import GridSearchCV library\n",
    "from sklearn.model_selection import GridSearchCV"
   ]
  },
  {
   "cell_type": "code",
   "execution_count": null,
   "id": "43c952cf-a400-4cc3-9270-83884e429876",
   "metadata": {},
   "outputs": [],
   "source": [
    "# first we need to define the list of parameters and list of values we want to test\n",
    "# For each parameters, give a list of all values you want to test (same list used in previous exercise)\n",
    "parameters = {\n",
    "    'n_estimators':[1, 10, 50, 100, 150, 200, 300],\n",
    "    'max_depth':[1, 2, 10, 15, 20]\n",
    "}\n",
    "\n",
    "# init random forest object\n",
    "rf = RandomForestClassifier(random_state=0)\n",
    "# init grid search object\n",
    "gs = GridSearchCV(rf, param_grid  = parameters, cv=10, scoring='accuracy')\n",
    "\n",
    "# fit grid search object using train data\n",
    "gs.fit(X_train, y_train)"
   ]
  },
  {
   "cell_type": "code",
   "execution_count": 33,
   "id": "60c7a809-7716-4b74-a4fa-7c28a0c0276a",
   "metadata": {},
   "outputs": [
    {
     "name": "stdout",
     "output_type": "stream",
     "text": [
      "Best parameters: {'max_depth': 10, 'n_estimators': 200}\n"
     ]
    }
   ],
   "source": [
    "# printing the best set of parameters found by grid search\n",
    "print(f\"Best parameters: {gs.best_params_}\")\n",
    "\n",
    "# getting the trained model with best performance\n",
    "final_model = gs.best_estimator_"
   ]
  },
  {
   "cell_type": "code",
   "execution_count": 26,
   "id": "0b076542-8e5b-4782-a544-6275532a6993",
   "metadata": {},
   "outputs": [],
   "source": [
    "# making prediction on test set using best model\n",
    "y_pred = final_model.predict(X_test)"
   ]
  },
  {
   "cell_type": "code",
   "execution_count": 31,
   "id": "94b1f3a7-e5ed-4a97-b516-65d5bd041ab5",
   "metadata": {},
   "outputs": [],
   "source": [
    "# calculating the accuracy of the model on test data\n"
   ]
  },
  {
   "cell_type": "code",
   "execution_count": 32,
   "id": "a59887b8-a325-4f09-ad86-d74532cf3dee",
   "metadata": {},
   "outputs": [
    {
     "name": "stdout",
     "output_type": "stream",
     "text": [
      "Accuracy (n_estimators=300): 75.14%\n"
     ]
    }
   ],
   "source": [
    " print(f\"Accuracy (n_estimators={est}): {100*f1_score(y_test, y_pred):.2f}%\")"
   ]
  },
  {
   "cell_type": "code",
   "execution_count": null,
   "id": "6086497d-4384-4590-988b-c5432cb94fa3",
   "metadata": {},
   "outputs": [],
   "source": []
  }
 ],
 "metadata": {
  "kernelspec": {
   "display_name": "Python 3 (ipykernel)",
   "language": "python",
   "name": "python3"
  },
  "language_info": {
   "codemirror_mode": {
    "name": "ipython",
    "version": 3
   },
   "file_extension": ".py",
   "mimetype": "text/x-python",
   "name": "python",
   "nbconvert_exporter": "python",
   "pygments_lexer": "ipython3",
   "version": "3.11.7"
  }
 },
 "nbformat": 4,
 "nbformat_minor": 5
}
